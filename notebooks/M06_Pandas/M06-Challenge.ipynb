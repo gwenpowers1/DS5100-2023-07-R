{
 "cells": [
  {
   "cell_type": "markdown",
   "metadata": {},
   "source": [
    "# Challenge: Wine Reviews"
   ]
  },
  {
   "cell_type": "markdown",
   "metadata": {},
   "source": [
    "# Instructions\n",
    "\n",
    "Using the CSV file `winereviews.csv` that is bundled with this notebook, perform the following functions. Use this file to write your code.\n",
    "\n",
    "When you are finished, upload the following items to Collab:\n",
    "* **This file** with your completed code inserted.\n",
    "* **The SQLite database** you created, containing the raw imported CSV file and the tables that implement your normalized schema.\n",
    "* **An image file** of the data model.\n",
    "* **A flask application file** (e.g. `winereviews.app`), if you decided to complete that task."
   ]
  },
  {
   "cell_type": "markdown",
   "metadata": {},
   "source": [
    "# Convert CSV to SQLite\n",
    "\n",
    "Use the Python libraries `sqlite3` and `pandas` to convert the CSV file on disk to a database table. Name your database file `winereviews.db`."
   ]
  },
  {
   "cell_type": "code",
   "execution_count": 171,
   "metadata": {
    "tags": []
   },
   "outputs": [],
   "source": [
    "import pandas as pd\n",
    "import sqlite3"
   ]
  },
  {
   "cell_type": "code",
   "execution_count": 172,
   "metadata": {
    "tags": []
   },
   "outputs": [],
   "source": [
    "db = sqlite3.connect('./data/winereviews.db')"
   ]
  },
  {
   "cell_type": "code",
   "execution_count": 179,
   "metadata": {
    "tags": []
   },
   "outputs": [],
   "source": [
    "raw = pd.read_csv('./data/winereviews.csv', index_col='id')"
   ]
  },
  {
   "cell_type": "code",
   "execution_count": 180,
   "metadata": {
    "tags": []
   },
   "outputs": [
    {
     "data": {
      "text/html": [
       "<div>\n",
       "<style scoped>\n",
       "    .dataframe tbody tr th:only-of-type {\n",
       "        vertical-align: middle;\n",
       "    }\n",
       "\n",
       "    .dataframe tbody tr th {\n",
       "        vertical-align: top;\n",
       "    }\n",
       "\n",
       "    .dataframe thead th {\n",
       "        text-align: right;\n",
       "    }\n",
       "</style>\n",
       "<table border=\"1\" class=\"dataframe\">\n",
       "  <thead>\n",
       "    <tr style=\"text-align: right;\">\n",
       "      <th></th>\n",
       "      <th>points</th>\n",
       "      <th>price</th>\n",
       "    </tr>\n",
       "  </thead>\n",
       "  <tbody>\n",
       "    <tr>\n",
       "      <th>count</th>\n",
       "      <td>129971.000000</td>\n",
       "      <td>120975.000000</td>\n",
       "    </tr>\n",
       "    <tr>\n",
       "      <th>mean</th>\n",
       "      <td>88.447138</td>\n",
       "      <td>35.363389</td>\n",
       "    </tr>\n",
       "    <tr>\n",
       "      <th>std</th>\n",
       "      <td>3.039730</td>\n",
       "      <td>41.022218</td>\n",
       "    </tr>\n",
       "    <tr>\n",
       "      <th>min</th>\n",
       "      <td>80.000000</td>\n",
       "      <td>4.000000</td>\n",
       "    </tr>\n",
       "    <tr>\n",
       "      <th>25%</th>\n",
       "      <td>86.000000</td>\n",
       "      <td>17.000000</td>\n",
       "    </tr>\n",
       "    <tr>\n",
       "      <th>50%</th>\n",
       "      <td>88.000000</td>\n",
       "      <td>25.000000</td>\n",
       "    </tr>\n",
       "    <tr>\n",
       "      <th>75%</th>\n",
       "      <td>91.000000</td>\n",
       "      <td>42.000000</td>\n",
       "    </tr>\n",
       "    <tr>\n",
       "      <th>max</th>\n",
       "      <td>100.000000</td>\n",
       "      <td>3300.000000</td>\n",
       "    </tr>\n",
       "  </tbody>\n",
       "</table>\n",
       "</div>"
      ],
      "text/plain": [
       "              points          price\n",
       "count  129971.000000  120975.000000\n",
       "mean       88.447138      35.363389\n",
       "std         3.039730      41.022218\n",
       "min        80.000000       4.000000\n",
       "25%        86.000000      17.000000\n",
       "50%        88.000000      25.000000\n",
       "75%        91.000000      42.000000\n",
       "max       100.000000    3300.000000"
      ]
     },
     "execution_count": 180,
     "metadata": {},
     "output_type": "execute_result"
    }
   ],
   "source": [
    "raw.describe()"
   ]
  },
  {
   "cell_type": "code",
   "execution_count": 181,
   "metadata": {
    "tags": []
   },
   "outputs": [
    {
     "data": {
      "text/html": [
       "<div>\n",
       "<style scoped>\n",
       "    .dataframe tbody tr th:only-of-type {\n",
       "        vertical-align: middle;\n",
       "    }\n",
       "\n",
       "    .dataframe tbody tr th {\n",
       "        vertical-align: top;\n",
       "    }\n",
       "\n",
       "    .dataframe thead th {\n",
       "        text-align: right;\n",
       "    }\n",
       "</style>\n",
       "<table border=\"1\" class=\"dataframe\">\n",
       "  <thead>\n",
       "    <tr style=\"text-align: right;\">\n",
       "      <th></th>\n",
       "      <th>country</th>\n",
       "      <th>description</th>\n",
       "      <th>designation</th>\n",
       "      <th>points</th>\n",
       "      <th>price</th>\n",
       "      <th>province</th>\n",
       "      <th>region_1</th>\n",
       "      <th>region_2</th>\n",
       "      <th>taster_name</th>\n",
       "      <th>taster_twitter_handle</th>\n",
       "      <th>title</th>\n",
       "      <th>variety</th>\n",
       "      <th>winery</th>\n",
       "    </tr>\n",
       "    <tr>\n",
       "      <th>id</th>\n",
       "      <th></th>\n",
       "      <th></th>\n",
       "      <th></th>\n",
       "      <th></th>\n",
       "      <th></th>\n",
       "      <th></th>\n",
       "      <th></th>\n",
       "      <th></th>\n",
       "      <th></th>\n",
       "      <th></th>\n",
       "      <th></th>\n",
       "      <th></th>\n",
       "      <th></th>\n",
       "    </tr>\n",
       "  </thead>\n",
       "  <tbody>\n",
       "    <tr>\n",
       "      <th>0</th>\n",
       "      <td>Italy</td>\n",
       "      <td>Aromas include tropical fruit, broom, brimston...</td>\n",
       "      <td>Vulkà Bianco</td>\n",
       "      <td>87</td>\n",
       "      <td>NaN</td>\n",
       "      <td>Sicily &amp; Sardinia</td>\n",
       "      <td>Etna</td>\n",
       "      <td>NaN</td>\n",
       "      <td>Kerin O’Keefe</td>\n",
       "      <td>@kerinokeefe</td>\n",
       "      <td>Nicosia 2013 Vulkà Bianco  (Etna)</td>\n",
       "      <td>White Blend</td>\n",
       "      <td>Nicosia</td>\n",
       "    </tr>\n",
       "    <tr>\n",
       "      <th>1</th>\n",
       "      <td>Portugal</td>\n",
       "      <td>This is ripe and fruity, a wine that is smooth...</td>\n",
       "      <td>Avidagos</td>\n",
       "      <td>87</td>\n",
       "      <td>15.0</td>\n",
       "      <td>Douro</td>\n",
       "      <td>NaN</td>\n",
       "      <td>NaN</td>\n",
       "      <td>Roger Voss</td>\n",
       "      <td>@vossroger</td>\n",
       "      <td>Quinta dos Avidagos 2011 Avidagos Red (Douro)</td>\n",
       "      <td>Portuguese Red</td>\n",
       "      <td>Quinta dos Avidagos</td>\n",
       "    </tr>\n",
       "    <tr>\n",
       "      <th>2</th>\n",
       "      <td>US</td>\n",
       "      <td>Tart and snappy, the flavors of lime flesh and...</td>\n",
       "      <td>NaN</td>\n",
       "      <td>87</td>\n",
       "      <td>14.0</td>\n",
       "      <td>Oregon</td>\n",
       "      <td>Willamette Valley</td>\n",
       "      <td>Willamette Valley</td>\n",
       "      <td>Paul Gregutt</td>\n",
       "      <td>@paulgwine</td>\n",
       "      <td>Rainstorm 2013 Pinot Gris (Willamette Valley)</td>\n",
       "      <td>Pinot Gris</td>\n",
       "      <td>Rainstorm</td>\n",
       "    </tr>\n",
       "    <tr>\n",
       "      <th>3</th>\n",
       "      <td>US</td>\n",
       "      <td>Pineapple rind, lemon pith and orange blossom ...</td>\n",
       "      <td>Reserve Late Harvest</td>\n",
       "      <td>87</td>\n",
       "      <td>13.0</td>\n",
       "      <td>Michigan</td>\n",
       "      <td>Lake Michigan Shore</td>\n",
       "      <td>NaN</td>\n",
       "      <td>Alexander Peartree</td>\n",
       "      <td>NaN</td>\n",
       "      <td>St. Julian 2013 Reserve Late Harvest Riesling ...</td>\n",
       "      <td>Riesling</td>\n",
       "      <td>St. Julian</td>\n",
       "    </tr>\n",
       "    <tr>\n",
       "      <th>4</th>\n",
       "      <td>US</td>\n",
       "      <td>Much like the regular bottling from 2012, this...</td>\n",
       "      <td>Vintner's Reserve Wild Child Block</td>\n",
       "      <td>87</td>\n",
       "      <td>65.0</td>\n",
       "      <td>Oregon</td>\n",
       "      <td>Willamette Valley</td>\n",
       "      <td>Willamette Valley</td>\n",
       "      <td>Paul Gregutt</td>\n",
       "      <td>@paulgwine</td>\n",
       "      <td>Sweet Cheeks 2012 Vintner's Reserve Wild Child...</td>\n",
       "      <td>Pinot Noir</td>\n",
       "      <td>Sweet Cheeks</td>\n",
       "    </tr>\n",
       "  </tbody>\n",
       "</table>\n",
       "</div>"
      ],
      "text/plain": [
       "     country                                        description  \\\n",
       "id                                                                \n",
       "0      Italy  Aromas include tropical fruit, broom, brimston...   \n",
       "1   Portugal  This is ripe and fruity, a wine that is smooth...   \n",
       "2         US  Tart and snappy, the flavors of lime flesh and...   \n",
       "3         US  Pineapple rind, lemon pith and orange blossom ...   \n",
       "4         US  Much like the regular bottling from 2012, this...   \n",
       "\n",
       "                           designation  points  price           province  \\\n",
       "id                                                                         \n",
       "0                         Vulkà Bianco      87    NaN  Sicily & Sardinia   \n",
       "1                             Avidagos      87   15.0              Douro   \n",
       "2                                  NaN      87   14.0             Oregon   \n",
       "3                 Reserve Late Harvest      87   13.0           Michigan   \n",
       "4   Vintner's Reserve Wild Child Block      87   65.0             Oregon   \n",
       "\n",
       "               region_1           region_2         taster_name  \\\n",
       "id                                                               \n",
       "0                  Etna                NaN       Kerin O’Keefe   \n",
       "1                   NaN                NaN          Roger Voss   \n",
       "2     Willamette Valley  Willamette Valley        Paul Gregutt   \n",
       "3   Lake Michigan Shore                NaN  Alexander Peartree   \n",
       "4     Willamette Valley  Willamette Valley        Paul Gregutt   \n",
       "\n",
       "   taster_twitter_handle                                              title  \\\n",
       "id                                                                            \n",
       "0           @kerinokeefe                  Nicosia 2013 Vulkà Bianco  (Etna)   \n",
       "1             @vossroger      Quinta dos Avidagos 2011 Avidagos Red (Douro)   \n",
       "2            @paulgwine       Rainstorm 2013 Pinot Gris (Willamette Valley)   \n",
       "3                    NaN  St. Julian 2013 Reserve Late Harvest Riesling ...   \n",
       "4            @paulgwine   Sweet Cheeks 2012 Vintner's Reserve Wild Child...   \n",
       "\n",
       "           variety               winery  \n",
       "id                                       \n",
       "0      White Blend              Nicosia  \n",
       "1   Portuguese Red  Quinta dos Avidagos  \n",
       "2       Pinot Gris            Rainstorm  \n",
       "3         Riesling           St. Julian  \n",
       "4       Pinot Noir         Sweet Cheeks  "
      ]
     },
     "execution_count": 181,
     "metadata": {},
     "output_type": "execute_result"
    }
   ],
   "source": [
    "raw.head()"
   ]
  },
  {
   "cell_type": "code",
   "execution_count": 182,
   "metadata": {
    "tags": []
   },
   "outputs": [
    {
     "data": {
      "text/plain": [
       "country                     63\n",
       "description                  0\n",
       "designation              37465\n",
       "points                       0\n",
       "price                     8996\n",
       "province                    63\n",
       "region_1                 21247\n",
       "region_2                 79460\n",
       "taster_name              26244\n",
       "taster_twitter_handle    31213\n",
       "title                        0\n",
       "variety                      1\n",
       "winery                       0\n",
       "dtype: int64"
      ]
     },
     "execution_count": 182,
     "metadata": {},
     "output_type": "execute_result"
    }
   ],
   "source": [
    "raw.isna().sum()"
   ]
  },
  {
   "cell_type": "code",
   "execution_count": 232,
   "metadata": {
    "tags": []
   },
   "outputs": [],
   "source": [
    "raw.loc[raw.taster_name.isna(), 'taster_name'] = 'Anonymous'\n",
    "raw.loc[raw.taster_name == 'Anonymous', 'taster_twitter_handle'] = 'Unkown'"
   ]
  },
  {
   "cell_type": "code",
   "execution_count": 233,
   "metadata": {
    "tags": []
   },
   "outputs": [
    {
     "data": {
      "text/plain": [
       "taster_name\n",
       "Anonymous             24917\n",
       "Roger Voss            23560\n",
       "Michael Schachner     14046\n",
       "Kerin O’Keefe          9697\n",
       "Paul Gregutt           8868\n",
       "Virginie Boone         8708\n",
       "Matt Kettmann          5730\n",
       "Joe Czerwinski         4766\n",
       "Sean P. Sullivan       4461\n",
       "Anna Lee C. Iijima     4017\n",
       "Jim Gordon             3766\n",
       "Anne Krebiehl MW       3290\n",
       "Lauren Buzzeo          1700\n",
       "Susan Kostrzewa        1023\n",
       "Mike DeSimone           461\n",
       "Jeff Jenssen            436\n",
       "Alexander Peartree      383\n",
       "Carrie Dykes            129\n",
       "Fiona Adams              24\n",
       "Christina Pickard         6\n",
       "dtype: int64"
      ]
     },
     "execution_count": 233,
     "metadata": {},
     "output_type": "execute_result"
    }
   ],
   "source": [
    "raw.value_counts('taster_name')"
   ]
  },
  {
   "cell_type": "code",
   "execution_count": 234,
   "metadata": {
    "tags": []
   },
   "outputs": [
    {
     "data": {
      "text/plain": [
       "((119988, 13), (119988, 13))"
      ]
     },
     "execution_count": 234,
     "metadata": {},
     "output_type": "execute_result"
    }
   ],
   "source": [
    "raw.drop_duplicates().shape, raw.shape"
   ]
  },
  {
   "cell_type": "code",
   "execution_count": 235,
   "metadata": {
    "tags": []
   },
   "outputs": [],
   "source": [
    "raw = raw.drop_duplicates()"
   ]
  },
  {
   "cell_type": "code",
   "execution_count": 236,
   "metadata": {
    "tags": []
   },
   "outputs": [
    {
     "data": {
      "text/plain": [
       "119988"
      ]
     },
     "execution_count": 236,
     "metadata": {},
     "output_type": "execute_result"
    }
   ],
   "source": [
    "raw.to_sql('review_raw', db, if_exists='replace', index=True) # Don't really have to do this"
   ]
  },
  {
   "cell_type": "markdown",
   "metadata": {},
   "source": [
    "# Identify the entities\n",
    "\n",
    "Using our intuition, we view the table and identify the implied subjects, or entities, in the data. \n",
    "\n",
    "* REVIEW\n",
    "* TASTER\n",
    "* WINE\n",
    "* PLACE\n",
    "* COUNTRY"
   ]
  },
  {
   "cell_type": "markdown",
   "metadata": {},
   "source": [
    "# Create tables for each of the entities\n",
    "\n",
    "Using the techniques described in class and in the Jupyter notebooks, create the tables corresponding to your normalized schema."
   ]
  },
  {
   "cell_type": "markdown",
   "metadata": {},
   "source": [
    "\n",
    "## Create `taster`\n",
    "\n",
    "Note how we handle `NULL`s here. We don't replace them right away, since we want to make sure we don't include in our table a row with two empty values. That is, even though there are records in `review_raw` that do not have `taster_name` values, this does not mean that we want to include in `taster` a row with no values."
   ]
  },
  {
   "cell_type": "code",
   "execution_count": 237,
   "metadata": {
    "tags": []
   },
   "outputs": [],
   "source": [
    "taster = raw[['taster_name', 'taster_twitter_handle']].value_counts().to_frame('n_reviews')"
   ]
  },
  {
   "cell_type": "code",
   "execution_count": 238,
   "metadata": {
    "tags": []
   },
   "outputs": [],
   "source": [
    "taster = taster.reset_index().set_index('taster_name')"
   ]
  },
  {
   "cell_type": "code",
   "execution_count": 239,
   "metadata": {
    "tags": []
   },
   "outputs": [
    {
     "data": {
      "text/html": [
       "<div>\n",
       "<style scoped>\n",
       "    .dataframe tbody tr th:only-of-type {\n",
       "        vertical-align: middle;\n",
       "    }\n",
       "\n",
       "    .dataframe tbody tr th {\n",
       "        vertical-align: top;\n",
       "    }\n",
       "\n",
       "    .dataframe thead th {\n",
       "        text-align: right;\n",
       "    }\n",
       "</style>\n",
       "<table border=\"1\" class=\"dataframe\">\n",
       "  <thead>\n",
       "    <tr style=\"text-align: right;\">\n",
       "      <th></th>\n",
       "      <th>taster_twitter_handle</th>\n",
       "      <th>n_reviews</th>\n",
       "    </tr>\n",
       "    <tr>\n",
       "      <th>taster_name</th>\n",
       "      <th></th>\n",
       "      <th></th>\n",
       "    </tr>\n",
       "  </thead>\n",
       "  <tbody>\n",
       "    <tr>\n",
       "      <th>Anonymous</th>\n",
       "      <td>Unkown</td>\n",
       "      <td>24917</td>\n",
       "    </tr>\n",
       "    <tr>\n",
       "      <th>Roger Voss</th>\n",
       "      <td>@vossroger</td>\n",
       "      <td>23560</td>\n",
       "    </tr>\n",
       "    <tr>\n",
       "      <th>Michael Schachner</th>\n",
       "      <td>@wineschach</td>\n",
       "      <td>14046</td>\n",
       "    </tr>\n",
       "    <tr>\n",
       "      <th>Kerin O’Keefe</th>\n",
       "      <td>@kerinokeefe</td>\n",
       "      <td>9697</td>\n",
       "    </tr>\n",
       "    <tr>\n",
       "      <th>Paul Gregutt</th>\n",
       "      <td>@paulgwine</td>\n",
       "      <td>8868</td>\n",
       "    </tr>\n",
       "    <tr>\n",
       "      <th>Virginie Boone</th>\n",
       "      <td>@vboone</td>\n",
       "      <td>8708</td>\n",
       "    </tr>\n",
       "    <tr>\n",
       "      <th>Matt Kettmann</th>\n",
       "      <td>@mattkettmann</td>\n",
       "      <td>5730</td>\n",
       "    </tr>\n",
       "    <tr>\n",
       "      <th>Joe Czerwinski</th>\n",
       "      <td>@JoeCz</td>\n",
       "      <td>4766</td>\n",
       "    </tr>\n",
       "    <tr>\n",
       "      <th>Sean P. Sullivan</th>\n",
       "      <td>@wawinereport</td>\n",
       "      <td>4461</td>\n",
       "    </tr>\n",
       "    <tr>\n",
       "      <th>Jim Gordon</th>\n",
       "      <td>@gordone_cellars</td>\n",
       "      <td>3766</td>\n",
       "    </tr>\n",
       "    <tr>\n",
       "      <th>Anne Krebiehl MW</th>\n",
       "      <td>@AnneInVino</td>\n",
       "      <td>3290</td>\n",
       "    </tr>\n",
       "    <tr>\n",
       "      <th>Lauren Buzzeo</th>\n",
       "      <td>@laurbuzz</td>\n",
       "      <td>1700</td>\n",
       "    </tr>\n",
       "    <tr>\n",
       "      <th>Susan Kostrzewa</th>\n",
       "      <td>@suskostrzewa</td>\n",
       "      <td>1023</td>\n",
       "    </tr>\n",
       "    <tr>\n",
       "      <th>Mike DeSimone</th>\n",
       "      <td>@worldwineguys</td>\n",
       "      <td>461</td>\n",
       "    </tr>\n",
       "    <tr>\n",
       "      <th>Jeff Jenssen</th>\n",
       "      <td>@worldwineguys</td>\n",
       "      <td>436</td>\n",
       "    </tr>\n",
       "    <tr>\n",
       "      <th>Fiona Adams</th>\n",
       "      <td>@bkfiona</td>\n",
       "      <td>24</td>\n",
       "    </tr>\n",
       "    <tr>\n",
       "      <th>Christina Pickard</th>\n",
       "      <td>@winewchristina</td>\n",
       "      <td>6</td>\n",
       "    </tr>\n",
       "  </tbody>\n",
       "</table>\n",
       "</div>"
      ],
      "text/plain": [
       "                  taster_twitter_handle  n_reviews\n",
       "taster_name                                       \n",
       "Anonymous                        Unkown      24917\n",
       "Roger Voss                   @vossroger      23560\n",
       "Michael Schachner           @wineschach      14046\n",
       "Kerin O’Keefe              @kerinokeefe       9697\n",
       "Paul Gregutt                @paulgwine        8868\n",
       "Virginie Boone                  @vboone       8708\n",
       "Matt Kettmann             @mattkettmann       5730\n",
       "Joe Czerwinski                   @JoeCz       4766\n",
       "Sean P. Sullivan          @wawinereport       4461\n",
       "Jim Gordon             @gordone_cellars       3766\n",
       "Anne Krebiehl MW            @AnneInVino       3290\n",
       "Lauren Buzzeo                 @laurbuzz       1700\n",
       "Susan Kostrzewa           @suskostrzewa       1023\n",
       "Mike DeSimone            @worldwineguys        461\n",
       "Jeff Jenssen             @worldwineguys        436\n",
       "Fiona Adams                    @bkfiona         24\n",
       "Christina Pickard       @winewchristina          6"
      ]
     },
     "execution_count": 239,
     "metadata": {},
     "output_type": "execute_result"
    }
   ],
   "source": [
    "taster"
   ]
  },
  {
   "cell_type": "code",
   "execution_count": 240,
   "metadata": {
    "tags": []
   },
   "outputs": [
    {
     "data": {
      "text/plain": [
       "17"
      ]
     },
     "execution_count": 240,
     "metadata": {},
     "output_type": "execute_result"
    }
   ],
   "source": [
    "taster.to_sql('taster', db, if_exists='replace', index=True)"
   ]
  },
  {
   "cell_type": "markdown",
   "metadata": {},
   "source": [
    "## Create `wine`\n",
    "\n",
    "Note that in this phase of the operation, we need to pull data from the wine entity as well as the keys from dependent tables."
   ]
  },
  {
   "cell_type": "code",
   "execution_count": 267,
   "metadata": {
    "tags": []
   },
   "outputs": [],
   "source": [
    "wine_cols = 'title winery variety designation country province region_1 region_2'.split()\n",
    "wine = raw[wine_cols].value_counts().to_frame('n_reviews')"
   ]
  },
  {
   "cell_type": "code",
   "execution_count": 271,
   "metadata": {
    "tags": []
   },
   "outputs": [],
   "source": [
    "wine = wine.reset_index().set_index(['title','winery'])"
   ]
  },
  {
   "cell_type": "markdown",
   "metadata": {},
   "source": [
    "Note that we have some duplicates in the index. This is not good. In a real project, we'd remove these."
   ]
  },
  {
   "cell_type": "code",
   "execution_count": 283,
   "metadata": {
    "tags": []
   },
   "outputs": [
    {
     "data": {
      "text/html": [
       "<div>\n",
       "<style scoped>\n",
       "    .dataframe tbody tr th:only-of-type {\n",
       "        vertical-align: middle;\n",
       "    }\n",
       "\n",
       "    .dataframe tbody tr th {\n",
       "        vertical-align: top;\n",
       "    }\n",
       "\n",
       "    .dataframe thead th {\n",
       "        text-align: right;\n",
       "    }\n",
       "</style>\n",
       "<table border=\"1\" class=\"dataframe\">\n",
       "  <thead>\n",
       "    <tr style=\"text-align: right;\">\n",
       "      <th></th>\n",
       "      <th></th>\n",
       "      <th>variety</th>\n",
       "      <th>designation</th>\n",
       "      <th>country</th>\n",
       "      <th>province</th>\n",
       "      <th>region_1</th>\n",
       "      <th>region_2</th>\n",
       "      <th>n_reviews</th>\n",
       "    </tr>\n",
       "    <tr>\n",
       "      <th>title</th>\n",
       "      <th>winery</th>\n",
       "      <th></th>\n",
       "      <th></th>\n",
       "      <th></th>\n",
       "      <th></th>\n",
       "      <th></th>\n",
       "      <th></th>\n",
       "      <th></th>\n",
       "    </tr>\n",
       "  </thead>\n",
       "  <tbody>\n",
       "    <tr>\n",
       "      <th>Cooper-Garrod 2011 Test Pilot Red (Santa Cruz Mountains)</th>\n",
       "      <th>Cooper-Garrod</th>\n",
       "      <td>Bordeaux-style Red Blend</td>\n",
       "      <td>Test Pilot</td>\n",
       "      <td>US</td>\n",
       "      <td>California</td>\n",
       "      <td>Santa Cruz Mountains</td>\n",
       "      <td>Central Coast</td>\n",
       "      <td>1</td>\n",
       "    </tr>\n",
       "    <tr>\n",
       "      <th>Ascension Cellars 2015 Silver White (Paso Robles)</th>\n",
       "      <th>Ascension Cellars</th>\n",
       "      <td>White Blend</td>\n",
       "      <td>Silver</td>\n",
       "      <td>US</td>\n",
       "      <td>California</td>\n",
       "      <td>Paso Robles</td>\n",
       "      <td>Central Coast</td>\n",
       "      <td>1</td>\n",
       "    </tr>\n",
       "    <tr>\n",
       "      <th>Force Majeure 2014 Parabellum Red (Red Mountain)</th>\n",
       "      <th>Force Majeure</th>\n",
       "      <td>Bordeaux-style Red Blend</td>\n",
       "      <td>Parabellum</td>\n",
       "      <td>US</td>\n",
       "      <td>Washington</td>\n",
       "      <td>Red Mountain</td>\n",
       "      <td>Columbia Valley</td>\n",
       "      <td>1</td>\n",
       "    </tr>\n",
       "  </tbody>\n",
       "</table>\n",
       "</div>"
      ],
      "text/plain": [
       "                                                                                       variety  \\\n",
       "title                                              winery                                        \n",
       "Cooper-Garrod 2011 Test Pilot Red (Santa Cruz M... Cooper-Garrod      Bordeaux-style Red Blend   \n",
       "Ascension Cellars 2015 Silver White (Paso Robles)  Ascension Cellars               White Blend   \n",
       "Force Majeure 2014 Parabellum Red (Red Mountain)   Force Majeure      Bordeaux-style Red Blend   \n",
       "\n",
       "                                                                     designation  \\\n",
       "title                                              winery                          \n",
       "Cooper-Garrod 2011 Test Pilot Red (Santa Cruz M... Cooper-Garrod      Test Pilot   \n",
       "Ascension Cellars 2015 Silver White (Paso Robles)  Ascension Cellars      Silver   \n",
       "Force Majeure 2014 Parabellum Red (Red Mountain)   Force Majeure      Parabellum   \n",
       "\n",
       "                                                                     country  \\\n",
       "title                                              winery                      \n",
       "Cooper-Garrod 2011 Test Pilot Red (Santa Cruz M... Cooper-Garrod          US   \n",
       "Ascension Cellars 2015 Silver White (Paso Robles)  Ascension Cellars      US   \n",
       "Force Majeure 2014 Parabellum Red (Red Mountain)   Force Majeure          US   \n",
       "\n",
       "                                                                        province  \\\n",
       "title                                              winery                          \n",
       "Cooper-Garrod 2011 Test Pilot Red (Santa Cruz M... Cooper-Garrod      California   \n",
       "Ascension Cellars 2015 Silver White (Paso Robles)  Ascension Cellars  California   \n",
       "Force Majeure 2014 Parabellum Red (Red Mountain)   Force Majeure      Washington   \n",
       "\n",
       "                                                                                  region_1  \\\n",
       "title                                              winery                                    \n",
       "Cooper-Garrod 2011 Test Pilot Red (Santa Cruz M... Cooper-Garrod      Santa Cruz Mountains   \n",
       "Ascension Cellars 2015 Silver White (Paso Robles)  Ascension Cellars           Paso Robles   \n",
       "Force Majeure 2014 Parabellum Red (Red Mountain)   Force Majeure              Red Mountain   \n",
       "\n",
       "                                                                             region_2  \\\n",
       "title                                              winery                               \n",
       "Cooper-Garrod 2011 Test Pilot Red (Santa Cruz M... Cooper-Garrod        Central Coast   \n",
       "Ascension Cellars 2015 Silver White (Paso Robles)  Ascension Cellars    Central Coast   \n",
       "Force Majeure 2014 Parabellum Red (Red Mountain)   Force Majeure      Columbia Valley   \n",
       "\n",
       "                                                                      n_reviews  \n",
       "title                                              winery                        \n",
       "Cooper-Garrod 2011 Test Pilot Red (Santa Cruz M... Cooper-Garrod              1  \n",
       "Ascension Cellars 2015 Silver White (Paso Robles)  Ascension Cellars          1  \n",
       "Force Majeure 2014 Parabellum Red (Red Mountain)   Force Majeure              1  "
      ]
     },
     "execution_count": 283,
     "metadata": {},
     "output_type": "execute_result"
    }
   ],
   "source": [
    "wine.loc[wine.index.duplicated()]"
   ]
  },
  {
   "cell_type": "code",
   "execution_count": 282,
   "metadata": {
    "tags": []
   },
   "outputs": [
    {
     "data": {
      "text/html": [
       "<div>\n",
       "<style scoped>\n",
       "    .dataframe tbody tr th:only-of-type {\n",
       "        vertical-align: middle;\n",
       "    }\n",
       "\n",
       "    .dataframe tbody tr th {\n",
       "        vertical-align: top;\n",
       "    }\n",
       "\n",
       "    .dataframe thead th {\n",
       "        text-align: right;\n",
       "    }\n",
       "</style>\n",
       "<table border=\"1\" class=\"dataframe\">\n",
       "  <thead>\n",
       "    <tr style=\"text-align: right;\">\n",
       "      <th></th>\n",
       "      <th>variety</th>\n",
       "      <th>designation</th>\n",
       "      <th>country</th>\n",
       "      <th>province</th>\n",
       "      <th>region_1</th>\n",
       "      <th>region_2</th>\n",
       "      <th>n_reviews</th>\n",
       "    </tr>\n",
       "    <tr>\n",
       "      <th>winery</th>\n",
       "      <th></th>\n",
       "      <th></th>\n",
       "      <th></th>\n",
       "      <th></th>\n",
       "      <th></th>\n",
       "      <th></th>\n",
       "      <th></th>\n",
       "    </tr>\n",
       "  </thead>\n",
       "  <tbody>\n",
       "    <tr>\n",
       "      <th>Force Majeure</th>\n",
       "      <td>Rhône-style Red Blend</td>\n",
       "      <td>Parabellum</td>\n",
       "      <td>US</td>\n",
       "      <td>Washington</td>\n",
       "      <td>Red Mountain</td>\n",
       "      <td>Columbia Valley</td>\n",
       "      <td>1</td>\n",
       "    </tr>\n",
       "    <tr>\n",
       "      <th>Force Majeure</th>\n",
       "      <td>Bordeaux-style Red Blend</td>\n",
       "      <td>Parabellum</td>\n",
       "      <td>US</td>\n",
       "      <td>Washington</td>\n",
       "      <td>Red Mountain</td>\n",
       "      <td>Columbia Valley</td>\n",
       "      <td>1</td>\n",
       "    </tr>\n",
       "  </tbody>\n",
       "</table>\n",
       "</div>"
      ],
      "text/plain": [
       "                                variety designation country    province  \\\n",
       "winery                                                                    \n",
       "Force Majeure     Rhône-style Red Blend  Parabellum      US  Washington   \n",
       "Force Majeure  Bordeaux-style Red Blend  Parabellum      US  Washington   \n",
       "\n",
       "                   region_1         region_2  n_reviews  \n",
       "winery                                                   \n",
       "Force Majeure  Red Mountain  Columbia Valley          1  \n",
       "Force Majeure  Red Mountain  Columbia Valley          1  "
      ]
     },
     "execution_count": 282,
     "metadata": {},
     "output_type": "execute_result"
    }
   ],
   "source": [
    "wine.loc['Force Majeure 2014 Parabellum Red (Red Mountain)']"
   ]
  },
  {
   "cell_type": "code",
   "execution_count": 284,
   "metadata": {
    "tags": []
   },
   "outputs": [
    {
     "data": {
      "text/plain": [
       "31538"
      ]
     },
     "execution_count": 284,
     "metadata": {},
     "output_type": "execute_result"
    }
   ],
   "source": [
    "wine.to_sql('wine', con=db, if_exists='replace', index=True)"
   ]
  },
  {
   "cell_type": "markdown",
   "metadata": {},
   "source": [
    "## Create `place`"
   ]
  },
  {
   "cell_type": "code",
   "execution_count": 285,
   "metadata": {
    "tags": []
   },
   "outputs": [],
   "source": [
    "place_cols = 'country province region_1 region_2'.split()\n",
    "place = raw[place_cols].value_counts().to_frame('n_reviews')"
   ]
  },
  {
   "cell_type": "code",
   "execution_count": 286,
   "metadata": {
    "tags": []
   },
   "outputs": [
    {
     "data": {
      "text/html": [
       "<div>\n",
       "<style scoped>\n",
       "    .dataframe tbody tr th:only-of-type {\n",
       "        vertical-align: middle;\n",
       "    }\n",
       "\n",
       "    .dataframe tbody tr th {\n",
       "        vertical-align: top;\n",
       "    }\n",
       "\n",
       "    .dataframe thead th {\n",
       "        text-align: right;\n",
       "    }\n",
       "</style>\n",
       "<table border=\"1\" class=\"dataframe\">\n",
       "  <thead>\n",
       "    <tr style=\"text-align: right;\">\n",
       "      <th></th>\n",
       "      <th></th>\n",
       "      <th></th>\n",
       "      <th></th>\n",
       "      <th>n_reviews</th>\n",
       "    </tr>\n",
       "    <tr>\n",
       "      <th>country</th>\n",
       "      <th>province</th>\n",
       "      <th>region_1</th>\n",
       "      <th>region_2</th>\n",
       "      <th></th>\n",
       "    </tr>\n",
       "  </thead>\n",
       "  <tbody>\n",
       "    <tr>\n",
       "      <th rowspan=\"11\" valign=\"top\">US</th>\n",
       "      <th>California</th>\n",
       "      <th>Napa Valley</th>\n",
       "      <th>Napa</th>\n",
       "      <td>4174</td>\n",
       "    </tr>\n",
       "    <tr>\n",
       "      <th>Washington</th>\n",
       "      <th>Columbia Valley (WA)</th>\n",
       "      <th>Columbia Valley</th>\n",
       "      <td>3795</td>\n",
       "    </tr>\n",
       "    <tr>\n",
       "      <th rowspan=\"9\" valign=\"top\">California</th>\n",
       "      <th>Russian River Valley</th>\n",
       "      <th>Sonoma</th>\n",
       "      <td>2862</td>\n",
       "    </tr>\n",
       "    <tr>\n",
       "      <th>California</th>\n",
       "      <th>California Other</th>\n",
       "      <td>2468</td>\n",
       "    </tr>\n",
       "    <tr>\n",
       "      <th>Paso Robles</th>\n",
       "      <th>Central Coast</th>\n",
       "      <td>2155</td>\n",
       "    </tr>\n",
       "    <tr>\n",
       "      <th>...</th>\n",
       "      <th>...</th>\n",
       "      <td>...</td>\n",
       "    </tr>\n",
       "    <tr>\n",
       "      <th>Sonoma-Napa-Monterey</th>\n",
       "      <th>California Other</th>\n",
       "      <td>1</td>\n",
       "    </tr>\n",
       "    <tr>\n",
       "      <th>Sonoma-Napa-Mendocino</th>\n",
       "      <th>North Coast</th>\n",
       "      <td>1</td>\n",
       "    </tr>\n",
       "    <tr>\n",
       "      <th>Sonoma-Napa-Lake</th>\n",
       "      <th>North Coast</th>\n",
       "      <td>1</td>\n",
       "    </tr>\n",
       "    <tr>\n",
       "      <th>Sonoma County-Santa Barbara County</th>\n",
       "      <th>California Other</th>\n",
       "      <td>1</td>\n",
       "    </tr>\n",
       "    <tr>\n",
       "      <th>Lake-Sonoma-Napa</th>\n",
       "      <th>North Coast</th>\n",
       "      <td>1</td>\n",
       "    </tr>\n",
       "  </tbody>\n",
       "</table>\n",
       "<p>203 rows × 1 columns</p>\n",
       "</div>"
      ],
      "text/plain": [
       "                                                                        n_reviews\n",
       "country province   region_1                           region_2                   \n",
       "US      California Napa Valley                        Napa                   4174\n",
       "        Washington Columbia Valley (WA)               Columbia Valley        3795\n",
       "        California Russian River Valley               Sonoma                 2862\n",
       "                   California                         California Other       2468\n",
       "                   Paso Robles                        Central Coast          2155\n",
       "...                                                                           ...\n",
       "                   Sonoma-Napa-Monterey               California Other          1\n",
       "                   Sonoma-Napa-Mendocino              North Coast               1\n",
       "                   Sonoma-Napa-Lake                   North Coast               1\n",
       "                   Sonoma County-Santa Barbara County California Other          1\n",
       "                   Lake-Sonoma-Napa                   North Coast               1\n",
       "\n",
       "[203 rows x 1 columns]"
      ]
     },
     "execution_count": 286,
     "metadata": {},
     "output_type": "execute_result"
    }
   ],
   "source": [
    "place"
   ]
  },
  {
   "cell_type": "code",
   "execution_count": 287,
   "metadata": {
    "tags": []
   },
   "outputs": [
    {
     "data": {
      "text/plain": [
       "203"
      ]
     },
     "execution_count": 287,
     "metadata": {},
     "output_type": "execute_result"
    }
   ],
   "source": [
    "place.to_sql('place', db, if_exists='replace', index=True)"
   ]
  },
  {
   "cell_type": "markdown",
   "metadata": {},
   "source": [
    "## Create `country`*\n",
    "\n",
    "This is not part of a our model. But I show this to prove a point -- that in the process of implementing a model, you might discover another "
   ]
  },
  {
   "cell_type": "code",
   "execution_count": 288,
   "metadata": {
    "tags": []
   },
   "outputs": [],
   "source": [
    "country = raw.country.value_counts().to_frame('n_reviews')\n",
    "country.index.name = 'country_id'"
   ]
  },
  {
   "cell_type": "code",
   "execution_count": 289,
   "metadata": {
    "tags": []
   },
   "outputs": [
    {
     "data": {
      "text/html": [
       "<div>\n",
       "<style scoped>\n",
       "    .dataframe tbody tr th:only-of-type {\n",
       "        vertical-align: middle;\n",
       "    }\n",
       "\n",
       "    .dataframe tbody tr th {\n",
       "        vertical-align: top;\n",
       "    }\n",
       "\n",
       "    .dataframe thead th {\n",
       "        text-align: right;\n",
       "    }\n",
       "</style>\n",
       "<table border=\"1\" class=\"dataframe\">\n",
       "  <thead>\n",
       "    <tr style=\"text-align: right;\">\n",
       "      <th></th>\n",
       "      <th>n_reviews</th>\n",
       "    </tr>\n",
       "    <tr>\n",
       "      <th>country_id</th>\n",
       "      <th></th>\n",
       "    </tr>\n",
       "  </thead>\n",
       "  <tbody>\n",
       "    <tr>\n",
       "      <th>US</th>\n",
       "      <td>50457</td>\n",
       "    </tr>\n",
       "    <tr>\n",
       "      <th>France</th>\n",
       "      <td>20353</td>\n",
       "    </tr>\n",
       "    <tr>\n",
       "      <th>Italy</th>\n",
       "      <td>17940</td>\n",
       "    </tr>\n",
       "    <tr>\n",
       "      <th>Spain</th>\n",
       "      <td>6116</td>\n",
       "    </tr>\n",
       "    <tr>\n",
       "      <th>Portugal</th>\n",
       "      <td>5256</td>\n",
       "    </tr>\n",
       "    <tr>\n",
       "      <th>Chile</th>\n",
       "      <td>4184</td>\n",
       "    </tr>\n",
       "    <tr>\n",
       "      <th>Argentina</th>\n",
       "      <td>3544</td>\n",
       "    </tr>\n",
       "    <tr>\n",
       "      <th>Austria</th>\n",
       "      <td>3034</td>\n",
       "    </tr>\n",
       "    <tr>\n",
       "      <th>Australia</th>\n",
       "      <td>2197</td>\n",
       "    </tr>\n",
       "    <tr>\n",
       "      <th>Germany</th>\n",
       "      <td>1992</td>\n",
       "    </tr>\n",
       "    <tr>\n",
       "      <th>South Africa</th>\n",
       "      <td>1301</td>\n",
       "    </tr>\n",
       "    <tr>\n",
       "      <th>New Zealand</th>\n",
       "      <td>1278</td>\n",
       "    </tr>\n",
       "    <tr>\n",
       "      <th>Israel</th>\n",
       "      <td>466</td>\n",
       "    </tr>\n",
       "    <tr>\n",
       "      <th>Greece</th>\n",
       "      <td>432</td>\n",
       "    </tr>\n",
       "    <tr>\n",
       "      <th>Canada</th>\n",
       "      <td>226</td>\n",
       "    </tr>\n",
       "    <tr>\n",
       "      <th>Bulgaria</th>\n",
       "      <td>132</td>\n",
       "    </tr>\n",
       "    <tr>\n",
       "      <th>Hungary</th>\n",
       "      <td>129</td>\n",
       "    </tr>\n",
       "    <tr>\n",
       "      <th>Romania</th>\n",
       "      <td>102</td>\n",
       "    </tr>\n",
       "    <tr>\n",
       "      <th>Uruguay</th>\n",
       "      <td>98</td>\n",
       "    </tr>\n",
       "    <tr>\n",
       "      <th>Turkey</th>\n",
       "      <td>81</td>\n",
       "    </tr>\n",
       "    <tr>\n",
       "      <th>Slovenia</th>\n",
       "      <td>77</td>\n",
       "    </tr>\n",
       "    <tr>\n",
       "      <th>Georgia</th>\n",
       "      <td>76</td>\n",
       "    </tr>\n",
       "    <tr>\n",
       "      <th>Croatia</th>\n",
       "      <td>70</td>\n",
       "    </tr>\n",
       "    <tr>\n",
       "      <th>Mexico</th>\n",
       "      <td>68</td>\n",
       "    </tr>\n",
       "    <tr>\n",
       "      <th>England</th>\n",
       "      <td>63</td>\n",
       "    </tr>\n",
       "    <tr>\n",
       "      <th>Moldova</th>\n",
       "      <td>56</td>\n",
       "    </tr>\n",
       "    <tr>\n",
       "      <th>Brazil</th>\n",
       "      <td>49</td>\n",
       "    </tr>\n",
       "    <tr>\n",
       "      <th>Lebanon</th>\n",
       "      <td>32</td>\n",
       "    </tr>\n",
       "    <tr>\n",
       "      <th>Morocco</th>\n",
       "      <td>24</td>\n",
       "    </tr>\n",
       "    <tr>\n",
       "      <th>Peru</th>\n",
       "      <td>16</td>\n",
       "    </tr>\n",
       "    <tr>\n",
       "      <th>Ukraine</th>\n",
       "      <td>14</td>\n",
       "    </tr>\n",
       "    <tr>\n",
       "      <th>Czech Republic</th>\n",
       "      <td>11</td>\n",
       "    </tr>\n",
       "    <tr>\n",
       "      <th>Macedonia</th>\n",
       "      <td>11</td>\n",
       "    </tr>\n",
       "    <tr>\n",
       "      <th>Cyprus</th>\n",
       "      <td>10</td>\n",
       "    </tr>\n",
       "    <tr>\n",
       "      <th>Serbia</th>\n",
       "      <td>8</td>\n",
       "    </tr>\n",
       "    <tr>\n",
       "      <th>India</th>\n",
       "      <td>8</td>\n",
       "    </tr>\n",
       "    <tr>\n",
       "      <th>Switzerland</th>\n",
       "      <td>6</td>\n",
       "    </tr>\n",
       "    <tr>\n",
       "      <th>Luxembourg</th>\n",
       "      <td>5</td>\n",
       "    </tr>\n",
       "    <tr>\n",
       "      <th>Bosnia and Herzegovina</th>\n",
       "      <td>2</td>\n",
       "    </tr>\n",
       "    <tr>\n",
       "      <th>Armenia</th>\n",
       "      <td>2</td>\n",
       "    </tr>\n",
       "    <tr>\n",
       "      <th>Slovakia</th>\n",
       "      <td>1</td>\n",
       "    </tr>\n",
       "    <tr>\n",
       "      <th>China</th>\n",
       "      <td>1</td>\n",
       "    </tr>\n",
       "    <tr>\n",
       "      <th>Egypt</th>\n",
       "      <td>1</td>\n",
       "    </tr>\n",
       "  </tbody>\n",
       "</table>\n",
       "</div>"
      ],
      "text/plain": [
       "                        n_reviews\n",
       "country_id                       \n",
       "US                          50457\n",
       "France                      20353\n",
       "Italy                       17940\n",
       "Spain                        6116\n",
       "Portugal                     5256\n",
       "Chile                        4184\n",
       "Argentina                    3544\n",
       "Austria                      3034\n",
       "Australia                    2197\n",
       "Germany                      1992\n",
       "South Africa                 1301\n",
       "New Zealand                  1278\n",
       "Israel                        466\n",
       "Greece                        432\n",
       "Canada                        226\n",
       "Bulgaria                      132\n",
       "Hungary                       129\n",
       "Romania                       102\n",
       "Uruguay                        98\n",
       "Turkey                         81\n",
       "Slovenia                       77\n",
       "Georgia                        76\n",
       "Croatia                        70\n",
       "Mexico                         68\n",
       "England                        63\n",
       "Moldova                        56\n",
       "Brazil                         49\n",
       "Lebanon                        32\n",
       "Morocco                        24\n",
       "Peru                           16\n",
       "Ukraine                        14\n",
       "Czech Republic                 11\n",
       "Macedonia                      11\n",
       "Cyprus                         10\n",
       "Serbia                          8\n",
       "India                           8\n",
       "Switzerland                     6\n",
       "Luxembourg                      5\n",
       "Bosnia and Herzegovina          2\n",
       "Armenia                         2\n",
       "Slovakia                        1\n",
       "China                           1\n",
       "Egypt                           1"
      ]
     },
     "execution_count": 289,
     "metadata": {},
     "output_type": "execute_result"
    }
   ],
   "source": [
    "country"
   ]
  },
  {
   "cell_type": "code",
   "execution_count": 290,
   "metadata": {
    "tags": []
   },
   "outputs": [
    {
     "data": {
      "text/plain": [
       "43"
      ]
     },
     "execution_count": 290,
     "metadata": {},
     "output_type": "execute_result"
    }
   ],
   "source": [
    "country.to_sql('country', db, if_exists='replace', index=True)"
   ]
  },
  {
   "cell_type": "markdown",
   "metadata": {},
   "source": [
    "## Create `review`"
   ]
  },
  {
   "cell_type": "code",
   "execution_count": 302,
   "metadata": {
    "tags": []
   },
   "outputs": [],
   "source": [
    "review_idx_cols = ['title','winery','taster_name']\n",
    "review_cols = ['description','taster_name','points','price','title','winery']"
   ]
  },
  {
   "cell_type": "code",
   "execution_count": 304,
   "metadata": {
    "tags": []
   },
   "outputs": [],
   "source": [
    "review = raw[review_cols].copy().set_index(review_idx_cols)"
   ]
  },
  {
   "cell_type": "code",
   "execution_count": 305,
   "metadata": {
    "tags": []
   },
   "outputs": [
    {
     "data": {
      "text/html": [
       "<div>\n",
       "<style scoped>\n",
       "    .dataframe tbody tr th:only-of-type {\n",
       "        vertical-align: middle;\n",
       "    }\n",
       "\n",
       "    .dataframe tbody tr th {\n",
       "        vertical-align: top;\n",
       "    }\n",
       "\n",
       "    .dataframe thead th {\n",
       "        text-align: right;\n",
       "    }\n",
       "</style>\n",
       "<table border=\"1\" class=\"dataframe\">\n",
       "  <thead>\n",
       "    <tr style=\"text-align: right;\">\n",
       "      <th></th>\n",
       "      <th></th>\n",
       "      <th></th>\n",
       "      <th>description</th>\n",
       "      <th>points</th>\n",
       "      <th>price</th>\n",
       "    </tr>\n",
       "    <tr>\n",
       "      <th>title</th>\n",
       "      <th>winery</th>\n",
       "      <th>taster_name</th>\n",
       "      <th></th>\n",
       "      <th></th>\n",
       "      <th></th>\n",
       "    </tr>\n",
       "  </thead>\n",
       "  <tbody>\n",
       "    <tr>\n",
       "      <th>Nicosia 2013 Vulkà Bianco  (Etna)</th>\n",
       "      <th>Nicosia</th>\n",
       "      <th>Kerin O’Keefe</th>\n",
       "      <td>Aromas include tropical fruit, broom, brimston...</td>\n",
       "      <td>87</td>\n",
       "      <td>NaN</td>\n",
       "    </tr>\n",
       "    <tr>\n",
       "      <th>Quinta dos Avidagos 2011 Avidagos Red (Douro)</th>\n",
       "      <th>Quinta dos Avidagos</th>\n",
       "      <th>Roger Voss</th>\n",
       "      <td>This is ripe and fruity, a wine that is smooth...</td>\n",
       "      <td>87</td>\n",
       "      <td>15.0</td>\n",
       "    </tr>\n",
       "    <tr>\n",
       "      <th>Rainstorm 2013 Pinot Gris (Willamette Valley)</th>\n",
       "      <th>Rainstorm</th>\n",
       "      <th>Paul Gregutt</th>\n",
       "      <td>Tart and snappy, the flavors of lime flesh and...</td>\n",
       "      <td>87</td>\n",
       "      <td>14.0</td>\n",
       "    </tr>\n",
       "    <tr>\n",
       "      <th>St. Julian 2013 Reserve Late Harvest Riesling (Lake Michigan Shore)</th>\n",
       "      <th>St. Julian</th>\n",
       "      <th>Alexander Peartree</th>\n",
       "      <td>Pineapple rind, lemon pith and orange blossom ...</td>\n",
       "      <td>87</td>\n",
       "      <td>13.0</td>\n",
       "    </tr>\n",
       "    <tr>\n",
       "      <th>Sweet Cheeks 2012 Vintner's Reserve Wild Child Block Pinot Noir (Willamette Valley)</th>\n",
       "      <th>Sweet Cheeks</th>\n",
       "      <th>Paul Gregutt</th>\n",
       "      <td>Much like the regular bottling from 2012, this...</td>\n",
       "      <td>87</td>\n",
       "      <td>65.0</td>\n",
       "    </tr>\n",
       "    <tr>\n",
       "      <th>...</th>\n",
       "      <th>...</th>\n",
       "      <th>...</th>\n",
       "      <td>...</td>\n",
       "      <td>...</td>\n",
       "      <td>...</td>\n",
       "    </tr>\n",
       "    <tr>\n",
       "      <th>Dr. H. Thanisch (Erben Müller-Burggraef) 2013 Brauneberger Juffer-Sonnenuhr Spätlese Riesling (Mosel)</th>\n",
       "      <th>Dr. H. Thanisch (Erben Müller-Burggraef)</th>\n",
       "      <th>Anna Lee C. Iijima</th>\n",
       "      <td>Notes of honeysuckle and cantaloupe sweeten th...</td>\n",
       "      <td>90</td>\n",
       "      <td>28.0</td>\n",
       "    </tr>\n",
       "    <tr>\n",
       "      <th>Citation 2004 Pinot Noir (Oregon)</th>\n",
       "      <th>Citation</th>\n",
       "      <th>Paul Gregutt</th>\n",
       "      <td>Citation is given as much as a decade of bottl...</td>\n",
       "      <td>90</td>\n",
       "      <td>75.0</td>\n",
       "    </tr>\n",
       "    <tr>\n",
       "      <th>Domaine Gresser 2013 Kritt Gewurztraminer (Alsace)</th>\n",
       "      <th>Domaine Gresser</th>\n",
       "      <th>Roger Voss</th>\n",
       "      <td>Well-drained gravel soil gives this wine its c...</td>\n",
       "      <td>90</td>\n",
       "      <td>30.0</td>\n",
       "    </tr>\n",
       "    <tr>\n",
       "      <th>Domaine Marcel Deiss 2012 Pinot Gris (Alsace)</th>\n",
       "      <th>Domaine Marcel Deiss</th>\n",
       "      <th>Roger Voss</th>\n",
       "      <td>A dry style of Pinot Gris, this is crisp with ...</td>\n",
       "      <td>90</td>\n",
       "      <td>32.0</td>\n",
       "    </tr>\n",
       "    <tr>\n",
       "      <th>Domaine Schoffit 2012 Lieu-dit Harth Cuvée Caroline Gewurztraminer (Alsace)</th>\n",
       "      <th>Domaine Schoffit</th>\n",
       "      <th>Roger Voss</th>\n",
       "      <td>Big, rich and off-dry, this is powered by inte...</td>\n",
       "      <td>90</td>\n",
       "      <td>21.0</td>\n",
       "    </tr>\n",
       "  </tbody>\n",
       "</table>\n",
       "<p>119988 rows × 3 columns</p>\n",
       "</div>"
      ],
      "text/plain": [
       "                                                                                                                                                      description  \\\n",
       "title                                              winery                                   taster_name                                                             \n",
       "Nicosia 2013 Vulkà Bianco  (Etna)                  Nicosia                                  Kerin O’Keefe       Aromas include tropical fruit, broom, brimston...   \n",
       "Quinta dos Avidagos 2011 Avidagos Red (Douro)      Quinta dos Avidagos                      Roger Voss          This is ripe and fruity, a wine that is smooth...   \n",
       "Rainstorm 2013 Pinot Gris (Willamette Valley)      Rainstorm                                Paul Gregutt        Tart and snappy, the flavors of lime flesh and...   \n",
       "St. Julian 2013 Reserve Late Harvest Riesling (... St. Julian                               Alexander Peartree  Pineapple rind, lemon pith and orange blossom ...   \n",
       "Sweet Cheeks 2012 Vintner's Reserve Wild Child ... Sweet Cheeks                             Paul Gregutt        Much like the regular bottling from 2012, this...   \n",
       "...                                                                                                                                                           ...   \n",
       "Dr. H. Thanisch (Erben Müller-Burggraef) 2013 B... Dr. H. Thanisch (Erben Müller-Burggraef) Anna Lee C. Iijima  Notes of honeysuckle and cantaloupe sweeten th...   \n",
       "Citation 2004 Pinot Noir (Oregon)                  Citation                                 Paul Gregutt        Citation is given as much as a decade of bottl...   \n",
       "Domaine Gresser 2013 Kritt Gewurztraminer (Alsace) Domaine Gresser                          Roger Voss          Well-drained gravel soil gives this wine its c...   \n",
       "Domaine Marcel Deiss 2012 Pinot Gris (Alsace)      Domaine Marcel Deiss                     Roger Voss          A dry style of Pinot Gris, this is crisp with ...   \n",
       "Domaine Schoffit 2012 Lieu-dit Harth Cuvée Caro... Domaine Schoffit                         Roger Voss          Big, rich and off-dry, this is powered by inte...   \n",
       "\n",
       "                                                                                                                points  \\\n",
       "title                                              winery                                   taster_name                  \n",
       "Nicosia 2013 Vulkà Bianco  (Etna)                  Nicosia                                  Kerin O’Keefe           87   \n",
       "Quinta dos Avidagos 2011 Avidagos Red (Douro)      Quinta dos Avidagos                      Roger Voss              87   \n",
       "Rainstorm 2013 Pinot Gris (Willamette Valley)      Rainstorm                                Paul Gregutt            87   \n",
       "St. Julian 2013 Reserve Late Harvest Riesling (... St. Julian                               Alexander Peartree      87   \n",
       "Sweet Cheeks 2012 Vintner's Reserve Wild Child ... Sweet Cheeks                             Paul Gregutt            87   \n",
       "...                                                                                                                ...   \n",
       "Dr. H. Thanisch (Erben Müller-Burggraef) 2013 B... Dr. H. Thanisch (Erben Müller-Burggraef) Anna Lee C. Iijima      90   \n",
       "Citation 2004 Pinot Noir (Oregon)                  Citation                                 Paul Gregutt            90   \n",
       "Domaine Gresser 2013 Kritt Gewurztraminer (Alsace) Domaine Gresser                          Roger Voss              90   \n",
       "Domaine Marcel Deiss 2012 Pinot Gris (Alsace)      Domaine Marcel Deiss                     Roger Voss              90   \n",
       "Domaine Schoffit 2012 Lieu-dit Harth Cuvée Caro... Domaine Schoffit                         Roger Voss              90   \n",
       "\n",
       "                                                                                                                price  \n",
       "title                                              winery                                   taster_name                \n",
       "Nicosia 2013 Vulkà Bianco  (Etna)                  Nicosia                                  Kerin O’Keefe         NaN  \n",
       "Quinta dos Avidagos 2011 Avidagos Red (Douro)      Quinta dos Avidagos                      Roger Voss           15.0  \n",
       "Rainstorm 2013 Pinot Gris (Willamette Valley)      Rainstorm                                Paul Gregutt         14.0  \n",
       "St. Julian 2013 Reserve Late Harvest Riesling (... St. Julian                               Alexander Peartree   13.0  \n",
       "Sweet Cheeks 2012 Vintner's Reserve Wild Child ... Sweet Cheeks                             Paul Gregutt         65.0  \n",
       "...                                                                                                               ...  \n",
       "Dr. H. Thanisch (Erben Müller-Burggraef) 2013 B... Dr. H. Thanisch (Erben Müller-Burggraef) Anna Lee C. Iijima   28.0  \n",
       "Citation 2004 Pinot Noir (Oregon)                  Citation                                 Paul Gregutt         75.0  \n",
       "Domaine Gresser 2013 Kritt Gewurztraminer (Alsace) Domaine Gresser                          Roger Voss           30.0  \n",
       "Domaine Marcel Deiss 2012 Pinot Gris (Alsace)      Domaine Marcel Deiss                     Roger Voss           32.0  \n",
       "Domaine Schoffit 2012 Lieu-dit Harth Cuvée Caro... Domaine Schoffit                         Roger Voss           21.0  \n",
       "\n",
       "[119988 rows x 3 columns]"
      ]
     },
     "execution_count": 305,
     "metadata": {},
     "output_type": "execute_result"
    }
   ],
   "source": [
    "review"
   ]
  },
  {
   "cell_type": "code",
   "execution_count": 306,
   "metadata": {
    "tags": []
   },
   "outputs": [
    {
     "data": {
      "text/plain": [
       "119988"
      ]
     },
     "execution_count": 306,
     "metadata": {},
     "output_type": "execute_result"
    }
   ],
   "source": [
    "review.to_sql('review', db, if_exists='replace', index=True)"
   ]
  },
  {
   "cell_type": "code",
   "execution_count": null,
   "metadata": {},
   "outputs": [],
   "source": []
  }
 ],
 "metadata": {
  "hide_input": false,
  "kernelspec": {
   "display_name": "Python 3 (ipykernel)",
   "language": "python",
   "name": "python3"
  },
  "language_info": {
   "codemirror_mode": {
    "name": "ipython",
    "version": 3
   },
   "file_extension": ".py",
   "mimetype": "text/x-python",
   "name": "python",
   "nbconvert_exporter": "python",
   "pygments_lexer": "ipython3",
   "version": "3.11.3"
  },
  "toc": {
   "nav_menu": {},
   "number_sections": true,
   "sideBar": true,
   "skip_h1_title": false,
   "toc_cell": false,
   "toc_position": {
    "height": "789px",
    "left": "0px",
    "right": "907.102px",
    "top": "111px",
    "width": "403px"
   },
   "toc_section_display": "block",
   "toc_window_display": true
  },
  "varInspector": {
   "cols": {
    "lenName": 16,
    "lenType": 16,
    "lenVar": 40
   },
   "kernels_config": {
    "python": {
     "delete_cmd_postfix": "",
     "delete_cmd_prefix": "del ",
     "library": "var_list.py",
     "varRefreshCmd": "print(var_dic_list())"
    },
    "r": {
     "delete_cmd_postfix": ") ",
     "delete_cmd_prefix": "rm(",
     "library": "var_list.r",
     "varRefreshCmd": "cat(var_dic_list()) "
    }
   },
   "oldHeight": 468,
   "position": {
    "height": "40px",
    "left": "1070px",
    "right": "20px",
    "top": "120px",
    "width": "336px"
   },
   "types_to_exclude": [
    "module",
    "function",
    "builtin_function_or_method",
    "instance",
    "_Feature"
   ],
   "varInspector_section_display": "none",
   "window_display": false
  }
 },
 "nbformat": 4,
 "nbformat_minor": 4
}
