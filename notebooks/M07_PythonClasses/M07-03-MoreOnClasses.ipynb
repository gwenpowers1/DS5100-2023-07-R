{
 "cells": [
  {
   "cell_type": "markdown",
   "metadata": {},
   "source": [
    "# NB: More About Classes\n",
    "\n",
    "## Fun Facts about Python Classes\n",
    "\n",
    "* You can put more than one class in a file.\n",
    "* You can put your classes in a .py file and import them into your other scripts.\n",
    "* Class names are usuall CamelCase, but not instances\n",
    "* When saving to a file:\n",
    "  - If only one class, use a lower case name of the class\n",
    "  - If more than one, use a package name, one that stands for the logical group the classes belong to\n",
    "\n",
    "## Anatomy of a Python Class"
   ]
  },
  {
   "cell_type": "code",
   "execution_count": null,
   "metadata": {},
   "outputs": [],
   "source": [
    "## Import class dependencies here\n",
    "import pandas as pd\n",
    "import numpy as np\n",
    "import re\n",
    "import requests\n",
    "from lxml import etree\n",
    "\n",
    "## Use CamelCase to name your class\n",
    "class MyClass(object): # Optionally pass ancestor classes to use inheritance\n",
    "    \"\"\"\n",
    "    Extensive docstring describing structure and function of class.\n",
    "    \"\"\"\n",
    "    \n",
    "    # Class attributes go here with initial values if applicable\n",
    "    att1 = True \n",
    "    att2 = 'Foo'\n",
    "    _private_att = 'Bar' # A variable that is meant to be internally only; not intended to accessed by users\n",
    "    \n",
    "    # Object initializer; called when an instance of the class is created\n",
    "    def __init__(self):\n",
    "        pass\n",
    "    \n",
    "    # Methods that share state via the self variable\n",
    "    def get_something(self):\n",
    "        pass\n",
    "    \n",
    "    # Name your methods consistently -- prefix with verbs\n",
    "    def put_something(self):\n",
    "        pass\n",
    "    \n",
    "    def do_something(self):\n",
    "        pass\n",
    "\n",
    "    def show_something(self):\n",
    "        pass\n",
    "\n",
    "    # A private method\n",
    "    def _private_method(self): \n",
    "        pass\n",
    "    \n",
    "    def do_something_else(self):\n",
    "        # Use private method\n",
    "        self._private_method()\n",
    "    \n",
    "    # A static method\n",
    "    def static_method():\n",
    "        pass"
   ]
  },
  {
   "cell_type": "markdown",
   "metadata": {},
   "source": [
    "## Privacy\n",
    "\n",
    "Users are free to access private attributes and methods, but they not shown in the help docs."
   ]
  },
  {
   "cell_type": "code",
   "execution_count": null,
   "metadata": {},
   "outputs": [],
   "source": [
    "help(MyClass)"
   ]
  },
  {
   "cell_type": "markdown",
   "metadata": {},
   "source": [
    "## Static Classes\n",
    "\n",
    "Static classes don't need to be instantiated.\n",
    "\n",
    "They can be used to store a collection of stand-alone helper functions as methods.\n",
    "\n",
    "Note the absence of `self` ..."
   ]
  },
  {
   "cell_type": "code",
   "execution_count": null,
   "metadata": {},
   "outputs": [],
   "source": [
    "class StaticClass():\n",
    "\n",
    "    def add_these(*nums):\n",
    "        sum = 0\n",
    "        for num in nums: sum += num\n",
    "        return sum\n",
    "    \n",
    "    def square_me(x):\n",
    "        return x**2"
   ]
  },
  {
   "cell_type": "code",
   "execution_count": null,
   "metadata": {},
   "outputs": [],
   "source": [
    "StaticClass.add_these(1,5,6)"
   ]
  },
  {
   "cell_type": "code",
   "execution_count": null,
   "metadata": {},
   "outputs": [],
   "source": [
    "StaticClass.square_me(5)"
   ]
  },
  {
   "cell_type": "markdown",
   "metadata": {},
   "source": [
    "This won't work ..."
   ]
  },
  {
   "cell_type": "code",
   "execution_count": null,
   "metadata": {},
   "outputs": [],
   "source": [
    "sc = StaticClass()"
   ]
  },
  {
   "cell_type": "code",
   "execution_count": null,
   "metadata": {},
   "outputs": [],
   "source": [
    "sc.square_me(10)"
   ]
  },
  {
   "cell_type": "markdown",
   "metadata": {},
   "source": [
    "## Importing Your Own Classes"
   ]
  },
  {
   "cell_type": "code",
   "execution_count": null,
   "metadata": {},
   "outputs": [],
   "source": [
    "from diegame import DieGame"
   ]
  },
  {
   "cell_type": "code",
   "execution_count": null,
   "metadata": {},
   "outputs": [],
   "source": [
    "game_1 = DieGame()\n",
    "game_1.n_rolls = 100\n",
    "game_1.do_it_all()"
   ]
  }
 ],
 "metadata": {
  "kernelspec": {
   "display_name": "Python 3 (ipykernel)",
   "language": "python",
   "name": "python3"
  },
  "language_info": {
   "codemirror_mode": {
    "name": "ipython",
    "version": 3
   },
   "file_extension": ".py",
   "mimetype": "text/x-python",
   "name": "python",
   "nbconvert_exporter": "python",
   "pygments_lexer": "ipython3",
   "version": "3.11.3"
  }
 },
 "nbformat": 4,
 "nbformat_minor": 4
}
